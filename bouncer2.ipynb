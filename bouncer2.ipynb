{
 "cells": [
  {
   "cell_type": "code",
   "execution_count": 7,
   "metadata": {},
   "outputs": [
    {
     "ename": "ModuleNotFoundError",
     "evalue": "No module named 'SimpleGUICS2Pygame'",
     "output_type": "error",
     "traceback": [
      "\u001b[1;31m---------------------------------------------------------------------------\u001b[0m",
      "\u001b[1;31mModuleNotFoundError\u001b[0m                       Traceback (most recent call last)",
      "Cell \u001b[1;32mIn[7], line 1\u001b[0m\n\u001b[1;32m----> 1\u001b[0m \u001b[38;5;28;01mimport\u001b[39;00m \u001b[38;5;21;01mSimpleGUICS2Pygame\u001b[39;00m\u001b[38;5;21;01m.\u001b[39;00m\u001b[38;5;21;01msimpleguics2pygame\u001b[39;00m \u001b[38;5;28;01mas\u001b[39;00m \u001b[38;5;21;01msimplegui\u001b[39;00m\n\u001b[0;32m      2\u001b[0m width\u001b[38;5;241m=\u001b[39m\u001b[38;5;241m600\u001b[39m\n\u001b[0;32m      3\u001b[0m height\u001b[38;5;241m=\u001b[39m\u001b[38;5;241m400\u001b[39m\n",
      "\u001b[1;31mModuleNotFoundError\u001b[0m: No module named 'SimpleGUICS2Pygame'"
     ]
    }
   ],
   "source": [
    "import SimpleGUICS2Pygame.simpleguics2pygame as simplegui\n",
    "width=600\n",
    "height=400\n",
    "position=[width/2,height/2]\n",
    "velocity=[0,0]\n",
    "radius=15\n",
    "color=['violet','indigo','blue','grey','yellow','orange','red']\n",
    "index=0\n",
    "message=\"game over\"\n",
    "def timer_handler():\n",
    "    global index\n",
    "    index+=1\n",
    "    index=index%len(color)\n",
    "def draw_handler(canvas):\n",
    "    position[0]+=velocity[0]\n",
    "    position[1]+=velocity[1]\n",
    "    if position[0]<=radius or position[0]>=width-radius or position[1]<=radius or position[1]>=width-radius:\n",
    "        canvas.draw_text(message,(100,50),50,'red')\n",
    "        frame.stop()\n",
    "    frame.set_canvas_background(color[index])\n",
    "    canvas.draw_circle(position,radius,2,'pink','red')\n",
    "def keydown(key):\n",
    "    global velocity\n",
    "    acc=1\n",
    "    global position\n",
    "    if key==simplegui.KEY_MAP['down']:\n",
    "        velocity[1]+=acc\n",
    "    elif key==simplegui.KEY_MAP['up']:\n",
    "        velocity[1]-=acc\n",
    "    elif key==simplegui.KEY_MAP['left']:\n",
    "        velocity[0]-=acc\n",
    "    elif key==simplegui.KEY_MAP['right']:\n",
    "        velocity[0]+=acc\n",
    "def ball_size():\n",
    "    global radius\n",
    "    if(radius!=50):\n",
    "        radius+=1\n",
    "def ball_size_de():\n",
    "    global radius\n",
    "    if(radius!=15):\n",
    "        radius-=1\n",
    "def restart():\n",
    "    global position\n",
    "    global velocity\n",
    "    position=[width/2,height/2]\n",
    "    velocity=[0,0]\n",
    "def stop():\n",
    "    frame.stop()\n",
    "frame=simplegui.create_frame('testing',500,500,140)\n",
    "frame.set_keydown_handler(keydown)\n",
    "frame.set_draw_handler(draw_handler)\n",
    "button1=frame.add_button('background',timer_handler,150)\n",
    "buttoon2=frame.add_button('ball size increase',ball_size,150)\n",
    "buttoon3=frame.add_button('ball size decrease',ball_size_de,150)\n",
    "buttoon4=frame.add_button('restart',restart,150)\n",
    "buttoon4=frame.add_button('stop',stop,150)\n",
    "frame.start()"
   ]
  }
 ],
 "metadata": {
  "kernelspec": {
   "display_name": "Python 3",
   "language": "python",
   "name": "python3"
  },
  "language_info": {
   "codemirror_mode": {
    "name": "ipython",
    "version": 3
   },
   "file_extension": ".py",
   "mimetype": "text/x-python",
   "name": "python",
   "nbconvert_exporter": "python",
   "pygments_lexer": "ipython3",
   "version": "3.11.5"
  }
 },
 "nbformat": 4,
 "nbformat_minor": 2
}
